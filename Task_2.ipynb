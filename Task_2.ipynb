{
 "cells": [
  {
   "cell_type": "code",
   "execution_count": 3,
   "id": "d6cc41a5",
   "metadata": {},
   "outputs": [
    {
     "name": "stdout",
     "output_type": "stream",
     "text": [
      "Found 19948 validated image filenames belonging to 2 classes.\n",
      "Found 4988 validated image filenames belonging to 2 classes.\n",
      "Epoch 1/10\n",
      "623/623 [==============================] - ETA: 0s - loss: 0.6569 - accuracy: 0.5979"
     ]
    },
    {
     "name": "stderr",
     "output_type": "stream",
     "text": [
      "C:\\Users\\shriv\\AppData\\Local\\Programs\\Python\\Python310\\lib\\site-packages\\PIL\\TiffImagePlugin.py:864: UserWarning: Truncated File Read\n",
      "  warnings.warn(str(msg))\n"
     ]
    },
    {
     "name": "stdout",
     "output_type": "stream",
     "text": [
      "623/623 [==============================] - 1497s 2s/step - loss: 0.6569 - accuracy: 0.5979 - val_loss: 0.6401 - val_accuracy: 0.6331\n",
      "Epoch 2/10\n",
      "623/623 [==============================] - 1142s 2s/step - loss: 0.5903 - accuracy: 0.6823 - val_loss: 0.5773 - val_accuracy: 0.7075\n",
      "Epoch 3/10\n",
      "623/623 [==============================] - 1060s 2s/step - loss: 0.5552 - accuracy: 0.7130 - val_loss: 0.5361 - val_accuracy: 0.7290\n",
      "Epoch 4/10\n",
      "623/623 [==============================] - 851s 1s/step - loss: 0.5330 - accuracy: 0.7265 - val_loss: 0.5576 - val_accuracy: 0.7113\n",
      "Epoch 5/10\n",
      "623/623 [==============================] - 860s 1s/step - loss: 0.5137 - accuracy: 0.7433 - val_loss: 0.4809 - val_accuracy: 0.7714\n",
      "Epoch 6/10\n",
      "623/623 [==============================] - 487s 782ms/step - loss: 0.4916 - accuracy: 0.7632 - val_loss: 0.4984 - val_accuracy: 0.7593\n",
      "Epoch 7/10\n",
      "623/623 [==============================] - 480s 771ms/step - loss: 0.4689 - accuracy: 0.7772 - val_loss: 0.4609 - val_accuracy: 0.7937\n",
      "Epoch 8/10\n",
      "623/623 [==============================] - 482s 774ms/step - loss: 0.4502 - accuracy: 0.7901 - val_loss: 0.4489 - val_accuracy: 0.7982\n",
      "Epoch 9/10\n",
      "623/623 [==============================] - 720s 1s/step - loss: 0.4333 - accuracy: 0.7980 - val_loss: 0.4015 - val_accuracy: 0.8252\n",
      "Epoch 10/10\n",
      "623/623 [==============================] - 513s 823ms/step - loss: 0.4218 - accuracy: 0.8030 - val_loss: 0.4058 - val_accuracy: 0.8153\n",
      "155/155 [==============================] - 33s 212ms/step - loss: 0.4045 - accuracy: 0.8183\n",
      "Test accuracy: 81.83%\n",
      "156/156 [==============================] - 33s 208ms/step\n"
     ]
    }
   ],
   "source": [
    "import os\n",
    "import random\n",
    "import numpy as np\n",
    "import tensorflow as tf\n",
    "from tensorflow.keras.preprocessing.image import ImageDataGenerator\n",
    "from tensorflow.keras.models import Sequential\n",
    "from tensorflow.keras.layers import Conv2D, MaxPooling2D, Flatten, Dense\n",
    "from sklearn.model_selection import train_test_split\n",
    "import pandas as pd\n",
    "\n",
    "seed = 42\n",
    "random.seed(seed)\n",
    "np.random.seed(seed)\n",
    "tf.random.set_seed(seed)\n",
    "base_dir = \"D:\\Codes\\GDSC Task Round\\Task 2\"\n",
    "data_dir = os.path.join(base_dir, 'PetImages')\n",
    "all_image_files = []\n",
    "for root, dirs, files in os.walk(data_dir):\n",
    "    for file in files:\n",
    "        if file.endswith(('.jpg', '.jpeg', '.png')):\n",
    "            all_image_files.append(os.path.join(root, file))\n",
    "labels = [1 if 'Dog' in file else 0 for file in all_image_files]\n",
    "labels = [str(label) for label in labels]\n",
    "train_files, test_files, train_labels, test_labels = train_test_split(\n",
    "    all_image_files, labels, test_size=0.2, random_state=seed, stratify=labels\n",
    ")\n",
    "datagen = ImageDataGenerator(\n",
    "    rescale=1./255,\n",
    "    rotation_range=40,\n",
    "    width_shift_range=0.2,\n",
    "    height_shift_range=0.2,\n",
    "    shear_range=0.2,\n",
    "    zoom_range=0.2,\n",
    "    horizontal_flip=True,\n",
    "    fill_mode='nearest'\n",
    ")\n",
    "batch_size = 32\n",
    "train_generator = datagen.flow_from_dataframe(\n",
    "    pd.DataFrame({'filename': train_files, 'class': train_labels}),\n",
    "    x_col='filename',\n",
    "    y_col='class',\n",
    "    target_size=(150, 150),\n",
    "    batch_size=batch_size,\n",
    "    class_mode='binary'\n",
    ")\n",
    "test_generator = datagen.flow_from_dataframe(\n",
    "    pd.DataFrame({'filename': test_files, 'class': test_labels}),\n",
    "    x_col='filename',\n",
    "    y_col='class',\n",
    "    target_size=(150, 150),\n",
    "    batch_size=batch_size,\n",
    "    class_mode='binary',\n",
    "    shuffle=False\n",
    ")\n",
    "model = Sequential([\n",
    "    Conv2D(32, (3, 3), activation='relu', input_shape=(150, 150, 3)),\n",
    "    MaxPooling2D(2, 2),\n",
    "    Conv2D(64, (3, 3), activation='relu'),\n",
    "    MaxPooling2D(2, 2),\n",
    "    Conv2D(128, (3, 3), activation='relu'),\n",
    "    MaxPooling2D(2, 2),\n",
    "    Flatten(),\n",
    "    Dense(512, activation='relu'),\n",
    "    Dense(1, activation='sigmoid')\n",
    "])\n",
    "model.compile(optimizer='adam', loss='binary_crossentropy', metrics=['accuracy'])\n",
    "epochs = 10\n",
    "history = model.fit(\n",
    "    train_generator,\n",
    "    steps_per_epoch=train_generator.samples // batch_size,\n",
    "    epochs=epochs,\n",
    "    validation_data=test_generator,\n",
    "    validation_steps=test_generator.samples // batch_size\n",
    ")\n",
    "test_loss, test_acc = model.evaluate(test_generator, steps=test_generator.samples // batch_size)\n",
    "print(f'Test accuracy: {test_acc * 100:.2f}%')\n",
    "\n",
    "\n",
    "predictions = model.predict(test_generator)"
   ]
  },
  {
   "cell_type": "code",
   "execution_count": null,
   "id": "6e72d1fb",
   "metadata": {},
   "outputs": [],
   "source": []
  },
  {
   "cell_type": "code",
   "execution_count": null,
   "id": "a3c3f69e",
   "metadata": {},
   "outputs": [],
   "source": []
  }
 ],
 "metadata": {
  "kernelspec": {
   "display_name": "Python 3 (ipykernel)",
   "language": "python",
   "name": "python3"
  },
  "language_info": {
   "codemirror_mode": {
    "name": "ipython",
    "version": 3
   },
   "file_extension": ".py",
   "mimetype": "text/x-python",
   "name": "python",
   "nbconvert_exporter": "python",
   "pygments_lexer": "ipython3",
   "version": "3.10.6"
  }
 },
 "nbformat": 4,
 "nbformat_minor": 5
}
